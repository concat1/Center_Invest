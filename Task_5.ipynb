{
 "cells": [
  {
   "cell_type": "markdown",
   "id": "d810ae11",
   "metadata": {},
   "source": [
    "# Часть A"
   ]
  },
  {
   "cell_type": "markdown",
   "id": "0ce3ee2a",
   "metadata": {},
   "source": [
    "## Импорт библиотек"
   ]
  },
  {
   "cell_type": "code",
   "execution_count": 186,
   "id": "01c6dca6",
   "metadata": {},
   "outputs": [],
   "source": [
    "import pandas as pd\n",
    "import numpy as np\n",
    "import matplotlib.pyplot as plt\n",
    "pd.options.mode.chained_assignment = None"
   ]
  },
  {
   "cell_type": "code",
   "execution_count": 210,
   "id": "d23f1d99",
   "metadata": {},
   "outputs": [
    {
     "data": {
      "text/html": [
       "<div>\n",
       "<style scoped>\n",
       "    .dataframe tbody tr th:only-of-type {\n",
       "        vertical-align: middle;\n",
       "    }\n",
       "\n",
       "    .dataframe tbody tr th {\n",
       "        vertical-align: top;\n",
       "    }\n",
       "\n",
       "    .dataframe thead th {\n",
       "        text-align: right;\n",
       "    }\n",
       "</style>\n",
       "<table border=\"1\" class=\"dataframe\">\n",
       "  <thead>\n",
       "    <tr style=\"text-align: right;\">\n",
       "      <th></th>\n",
       "      <th>age</th>\n",
       "      <th>job</th>\n",
       "      <th>marital</th>\n",
       "      <th>education</th>\n",
       "      <th>default</th>\n",
       "      <th>balance</th>\n",
       "      <th>housing</th>\n",
       "      <th>loan</th>\n",
       "      <th>contact</th>\n",
       "    </tr>\n",
       "  </thead>\n",
       "  <tbody>\n",
       "    <tr>\n",
       "      <th>0</th>\n",
       "      <td>58</td>\n",
       "      <td>management</td>\n",
       "      <td>married</td>\n",
       "      <td>tertiary</td>\n",
       "      <td>no</td>\n",
       "      <td>2143</td>\n",
       "      <td>yes</td>\n",
       "      <td>no</td>\n",
       "      <td>unknown</td>\n",
       "    </tr>\n",
       "    <tr>\n",
       "      <th>1</th>\n",
       "      <td>44</td>\n",
       "      <td>technician</td>\n",
       "      <td>single</td>\n",
       "      <td>secondary</td>\n",
       "      <td>no</td>\n",
       "      <td>29</td>\n",
       "      <td>yes</td>\n",
       "      <td>no</td>\n",
       "      <td>unknown</td>\n",
       "    </tr>\n",
       "    <tr>\n",
       "      <th>2</th>\n",
       "      <td>33</td>\n",
       "      <td>entrepreneur</td>\n",
       "      <td>married</td>\n",
       "      <td>secondary</td>\n",
       "      <td>no</td>\n",
       "      <td>2</td>\n",
       "      <td>yes</td>\n",
       "      <td>yes</td>\n",
       "      <td>unknown</td>\n",
       "    </tr>\n",
       "    <tr>\n",
       "      <th>3</th>\n",
       "      <td>47</td>\n",
       "      <td>blue-collar</td>\n",
       "      <td>married</td>\n",
       "      <td>unknown</td>\n",
       "      <td>no</td>\n",
       "      <td>1506</td>\n",
       "      <td>yes</td>\n",
       "      <td>no</td>\n",
       "      <td>unknown</td>\n",
       "    </tr>\n",
       "    <tr>\n",
       "      <th>4</th>\n",
       "      <td>33</td>\n",
       "      <td>unknown</td>\n",
       "      <td>single</td>\n",
       "      <td>unknown</td>\n",
       "      <td>no</td>\n",
       "      <td>1</td>\n",
       "      <td>no</td>\n",
       "      <td>no</td>\n",
       "      <td>unknown</td>\n",
       "    </tr>\n",
       "  </tbody>\n",
       "</table>\n",
       "</div>"
      ],
      "text/plain": [
       "  age           job  marital  education default balance housing loan  contact\n",
       "0  58    management  married   tertiary      no    2143     yes   no  unknown\n",
       "1  44    technician   single  secondary      no      29     yes   no  unknown\n",
       "2  33  entrepreneur  married  secondary      no       2     yes  yes  unknown\n",
       "3  47   blue-collar  married    unknown      no    1506     yes   no  unknown\n",
       "4  33       unknown   single    unknown      no       1      no   no  unknown"
      ]
     },
     "execution_count": 210,
     "metadata": {},
     "output_type": "execute_result"
    }
   ],
   "source": [
    "data = pd.read_csv(\"Датасет клиентов (5 задание).csv\", encoding = \"cp1251\")\n",
    "data.head()"
   ]
  },
  {
   "cell_type": "markdown",
   "id": "f11b5ef5",
   "metadata": {},
   "source": [
    "## Посмотрим на наборы уникальных значений в каждом столбце"
   ]
  },
  {
   "cell_type": "code",
   "execution_count": 211,
   "id": "19c5b1e3",
   "metadata": {},
   "outputs": [
    {
     "name": "stdout",
     "output_type": "stream",
     "text": [
      "-------------------------\n",
      "Col:  age ; uniq:  ['58' '44' '33' '47' '35' '28' '42' '43' '41' '29' '53' '57' '51' '45'\n",
      " '60' '56' '32' '25' '40' '39' '52' '46' '36' '49' '59' '37' '50' '54'\n",
      " '55' '48' '24' '38' '31' '30' '27' '34' '23' '26' '61' '22' '21' '20'\n",
      " '66' '62' '83' '75' '67' '70' '65' '68' '64' '69' '72' '71' '19' '76'\n",
      " '85' '63' '90' '82' '73' '74' '78' '80' '94' '79' '77'\n",
      " '47;unemployed;married;primary;no;2290;yes;no;cellular' '86' '95' '81'\n",
      " '18' '89' '84' '87' '92' '93' '88']\n",
      "-------------------------\n",
      "Col:  job ; uniq:  ['management' 'technician' 'entrepreneur' 'blue-collar' 'unknown'\n",
      " 'retired' 'admin.' 'services' 'self-employed' 'unemployed' 'housemaid'\n",
      " 'student' 'sef-employed' 'Їа®бвЁвҐ ¬Ґ\\xadп' nan]\n",
      "-------------------------\n",
      "Col:  marital ; uniq:  ['married' 'single' 'divorced' nan]\n",
      "-------------------------\n",
      "Col:  education ; uniq:  ['tertiary' 'secondary' 'unknown' 'primary' nan]\n",
      "-------------------------\n",
      "Col:  default ; uniq:  ['no' 'yes' nan]\n",
      "-------------------------\n",
      "Col:  balance ; uniq:  ['2143' '29' '2' ... '8205' '14204' '16353']\n",
      "-------------------------\n",
      "Col:  housing ; uniq:  ['yes' 'no' nan]\n",
      "-------------------------\n",
      "Col:  loan ; uniq:  ['no' 'yes' nan]\n",
      "-------------------------\n",
      "Col:  contact ; uniq:  ['unknown' 'cellular' 'telephone' nan]\n"
     ]
    }
   ],
   "source": [
    "for column in data.columns:\n",
    "    print(\"-------------------------\")\n",
    "    print(\"Col: \", column, \"; uniq: \", data[column].unique())\n",
    "    #print(data[data[column].isna()])"
   ]
  },
  {
   "cell_type": "code",
   "execution_count": 212,
   "id": "2917d7a8",
   "metadata": {},
   "outputs": [
    {
     "data": {
      "text/plain": [
       "age    job    marital  education  default  balance  housing  loan   contact\n",
       "False  False  False    False      False    False    False    False  False      45210\n",
       "       True   True     True       True     True     True     True   True           1\n",
       "dtype: int64"
      ]
     },
     "execution_count": 212,
     "metadata": {},
     "output_type": "execute_result"
    }
   ],
   "source": [
    "data.isna().value_counts()"
   ]
  },
  {
   "cell_type": "markdown",
   "id": "49880891",
   "metadata": {},
   "source": [
    "## Видно, что в наборах значений есть ошибки заполнения таблицы.\n",
    "## 1) В столбце \"Age\" присутствуют(ет) некорректно прочитанная строка\n",
    "## 2) В столбце \"Job\" присутствует значене: Їа®бвЁвҐ ¬Ґ\\xadп, которое после обработки декодером преобразуется в: \"простите ме я\" - вероятно, это фраза: \"простите меня\" - неизвестно, как и почему она оказалась в графе работа, но это ошибка.\n",
    "## 3) Также в этом же столбце есть 'unknown' и 'nan', которые не дают информации о месте работы.\n",
    "## 4) Также допущена ошибка в записи самозанятый: sef-employed, должно быть self-employed\n",
    "## 5) admin. - неполная запись названия работы - лучше заменить на полное название\n",
    "## 6) В столбцах job, marital, education, default, balance, housing, loan, contact, есть nan, которое не дает полезной информации \n",
    "## 7) В датасете единственная строка, в которой только nan"
   ]
  },
  {
   "cell_type": "code",
   "execution_count": 213,
   "id": "f37617c7",
   "metadata": {},
   "outputs": [
    {
     "data": {
      "text/html": [
       "<div>\n",
       "<style scoped>\n",
       "    .dataframe tbody tr th:only-of-type {\n",
       "        vertical-align: middle;\n",
       "    }\n",
       "\n",
       "    .dataframe tbody tr th {\n",
       "        vertical-align: top;\n",
       "    }\n",
       "\n",
       "    .dataframe thead th {\n",
       "        text-align: right;\n",
       "    }\n",
       "</style>\n",
       "<table border=\"1\" class=\"dataframe\">\n",
       "  <thead>\n",
       "    <tr style=\"text-align: right;\">\n",
       "      <th></th>\n",
       "      <th>age</th>\n",
       "      <th>job</th>\n",
       "      <th>marital</th>\n",
       "      <th>education</th>\n",
       "      <th>default</th>\n",
       "      <th>balance</th>\n",
       "      <th>housing</th>\n",
       "      <th>loan</th>\n",
       "      <th>contact</th>\n",
       "    </tr>\n",
       "  </thead>\n",
       "  <tbody>\n",
       "    <tr>\n",
       "      <th>31706</th>\n",
       "      <td>47;unemployed;married;primary;no;2290;yes;no;c...</td>\n",
       "      <td>NaN</td>\n",
       "      <td>NaN</td>\n",
       "      <td>NaN</td>\n",
       "      <td>NaN</td>\n",
       "      <td>NaN</td>\n",
       "      <td>NaN</td>\n",
       "      <td>NaN</td>\n",
       "      <td>NaN</td>\n",
       "    </tr>\n",
       "  </tbody>\n",
       "</table>\n",
       "</div>"
      ],
      "text/plain": [
       "                                                     age  job marital  \\\n",
       "31706  47;unemployed;married;primary;no;2290;yes;no;c...  NaN     NaN   \n",
       "\n",
       "      education default balance housing loan contact  \n",
       "31706       NaN     NaN     NaN     NaN  NaN     NaN  "
      ]
     },
     "execution_count": 213,
     "metadata": {},
     "output_type": "execute_result"
    }
   ],
   "source": [
    "data[data[\"age\"] == \"47;unemployed;married;primary;no;2290;yes;no;cellular\"]"
   ]
  },
  {
   "cell_type": "markdown",
   "id": "db9cfa1f",
   "metadata": {},
   "source": [
    "## Строка с nan - та, которая была неправильно прочитана"
   ]
  },
  {
   "cell_type": "code",
   "execution_count": 214,
   "id": "924bac30",
   "metadata": {},
   "outputs": [
    {
     "data": {
      "text/plain": [
       "age    job    marital  education  default  balance  housing  loan   contact\n",
       "False  False  False    False      False    False    False    False  False      45210\n",
       "       True   True     True       True     True     True     True   True           1\n",
       "dtype: int64"
      ]
     },
     "execution_count": 214,
     "metadata": {},
     "output_type": "execute_result"
    }
   ],
   "source": [
    "data.isna().value_counts()"
   ]
  },
  {
   "cell_type": "code",
   "execution_count": 215,
   "id": "12b85c47",
   "metadata": {},
   "outputs": [
    {
     "name": "stdout",
     "output_type": "stream",
     "text": [
      "      age         job  marital education default balance housing loan  \\\n",
      "31706  47  unemployed  married   primary      no    2290     yes   no   \n",
      "\n",
      "        contact  \n",
      "31706  cellular  \n"
     ]
    }
   ],
   "source": [
    "data_err = data[data[\"age\"] == \"47;unemployed;married;primary;no;2290;yes;no;cellular\"]\n",
    "curr_row = data_err.iloc[0][0]\n",
    "ind = 0\n",
    "#print(curr_row)\n",
    "temp_row = curr_row.split(';')\n",
    "#print(temp_row)\n",
    "data_err.age.iloc[ind] = temp_row[0]\n",
    "data_err.job.iloc[ind] = temp_row[1]\n",
    "data_err.marital.iloc[ind] = temp_row[2]\n",
    "data_err.education.iloc[ind] = temp_row[3]\n",
    "data_err.default.iloc[ind] = temp_row[4]\n",
    "data_err.balance.iloc[ind] = temp_row[5]\n",
    "data_err.housing.iloc[ind] = temp_row[6]\n",
    "data_err.loan.iloc[ind] = temp_row[7]\n",
    "data_err.contact.iloc[ind] = temp_row[8]\n",
    "\n",
    "print(data_err)\n",
    "data[data[\"age\"] == \"47;unemployed;married;primary;no;2290;yes;no;cellular\"] = data_err"
   ]
  },
  {
   "cell_type": "code",
   "execution_count": 216,
   "id": "35e117f9",
   "metadata": {},
   "outputs": [
    {
     "name": "stderr",
     "output_type": "stream",
     "text": [
      "C:\\Users\\Dany\\AppData\\Local\\Temp\\ipykernel_20792\\1238133630.py:1: UserWarning: Boolean Series key will be reindexed to match DataFrame index.\n",
      "  data[data[\"age\"] == \"47\"][data[\"balance\"] == '2290']\n"
     ]
    },
    {
     "data": {
      "text/html": [
       "<div>\n",
       "<style scoped>\n",
       "    .dataframe tbody tr th:only-of-type {\n",
       "        vertical-align: middle;\n",
       "    }\n",
       "\n",
       "    .dataframe tbody tr th {\n",
       "        vertical-align: top;\n",
       "    }\n",
       "\n",
       "    .dataframe thead th {\n",
       "        text-align: right;\n",
       "    }\n",
       "</style>\n",
       "<table border=\"1\" class=\"dataframe\">\n",
       "  <thead>\n",
       "    <tr style=\"text-align: right;\">\n",
       "      <th></th>\n",
       "      <th>age</th>\n",
       "      <th>job</th>\n",
       "      <th>marital</th>\n",
       "      <th>education</th>\n",
       "      <th>default</th>\n",
       "      <th>balance</th>\n",
       "      <th>housing</th>\n",
       "      <th>loan</th>\n",
       "      <th>contact</th>\n",
       "    </tr>\n",
       "  </thead>\n",
       "  <tbody>\n",
       "    <tr>\n",
       "      <th>31706</th>\n",
       "      <td>47</td>\n",
       "      <td>unemployed</td>\n",
       "      <td>married</td>\n",
       "      <td>primary</td>\n",
       "      <td>no</td>\n",
       "      <td>2290</td>\n",
       "      <td>yes</td>\n",
       "      <td>no</td>\n",
       "      <td>cellular</td>\n",
       "    </tr>\n",
       "    <tr>\n",
       "      <th>32166</th>\n",
       "      <td>47</td>\n",
       "      <td>housemaid</td>\n",
       "      <td>married</td>\n",
       "      <td>tertiary</td>\n",
       "      <td>no</td>\n",
       "      <td>2290</td>\n",
       "      <td>no</td>\n",
       "      <td>no</td>\n",
       "      <td>cellular</td>\n",
       "    </tr>\n",
       "  </tbody>\n",
       "</table>\n",
       "</div>"
      ],
      "text/plain": [
       "      age         job  marital education default balance housing loan  \\\n",
       "31706  47  unemployed  married   primary      no    2290     yes   no   \n",
       "32166  47   housemaid  married  tertiary      no    2290      no   no   \n",
       "\n",
       "        contact  \n",
       "31706  cellular  \n",
       "32166  cellular  "
      ]
     },
     "execution_count": 216,
     "metadata": {},
     "output_type": "execute_result"
    }
   ],
   "source": [
    "data[data[\"age\"] == \"47\"][data[\"balance\"] == '2290']"
   ]
  },
  {
   "cell_type": "markdown",
   "id": "32d33b30",
   "metadata": {},
   "source": [
    "## Видно, что теперь строка прочитана корректно. Проведем повторное исследование уникальных значений"
   ]
  },
  {
   "cell_type": "code",
   "execution_count": 217,
   "id": "e0b827b0",
   "metadata": {},
   "outputs": [
    {
     "name": "stdout",
     "output_type": "stream",
     "text": [
      "-------------------------\n",
      "Col:  age ; uniq:  ['58' '44' '33' '47' '35' '28' '42' '43' '41' '29' '53' '57' '51' '45'\n",
      " '60' '56' '32' '25' '40' '39' '52' '46' '36' '49' '59' '37' '50' '54'\n",
      " '55' '48' '24' '38' '31' '30' '27' '34' '23' '26' '61' '22' '21' '20'\n",
      " '66' '62' '83' '75' '67' '70' '65' '68' '64' '69' '72' '71' '19' '76'\n",
      " '85' '63' '90' '82' '73' '74' '78' '80' '94' '79' '77' '86' '95' '81'\n",
      " '18' '89' '84' '87' '92' '93' '88']\n",
      "-------------------------\n",
      "Col:  job ; uniq:  ['management' 'technician' 'entrepreneur' 'blue-collar' 'unknown'\n",
      " 'retired' 'admin.' 'services' 'self-employed' 'unemployed' 'housemaid'\n",
      " 'student' 'sef-employed' 'Їа®бвЁвҐ ¬Ґ\\xadп']\n",
      "-------------------------\n",
      "Col:  marital ; uniq:  ['married' 'single' 'divorced']\n",
      "-------------------------\n",
      "Col:  education ; uniq:  ['tertiary' 'secondary' 'unknown' 'primary']\n",
      "-------------------------\n",
      "Col:  default ; uniq:  ['no' 'yes']\n",
      "-------------------------\n",
      "Col:  balance ; uniq:  ['2143' '29' '2' ... '8205' '14204' '16353']\n",
      "-------------------------\n",
      "Col:  housing ; uniq:  ['yes' 'no']\n",
      "-------------------------\n",
      "Col:  loan ; uniq:  ['no' 'yes']\n",
      "-------------------------\n",
      "Col:  contact ; uniq:  ['unknown' 'cellular' 'telephone']\n"
     ]
    }
   ],
   "source": [
    "for column in data.columns:\n",
    "    print(\"-------------------------\")\n",
    "    print(\"Col: \", column, \"; uniq: \", data[column].unique())\n",
    "    #print(data[data[column].isna()])"
   ]
  },
  {
   "cell_type": "markdown",
   "id": "0a4c66db",
   "metadata": {},
   "source": [
    "## Более в столбцах нет значений nan. Исправим остальные ошибки"
   ]
  },
  {
   "cell_type": "code",
   "execution_count": 218,
   "id": "2ff8fea8",
   "metadata": {},
   "outputs": [
    {
     "name": "stdout",
     "output_type": "stream",
     "text": [
      "      age            job  marital  education default balance housing loan  \\\n",
      "26151  33  Їа®бвЁвҐ ¬Ґ­п  married  secondary      no    1631     yes   no   \n",
      "\n",
      "        contact  \n",
      "26151  cellular  \n",
      "age                 33\n",
      "job            unknown\n",
      "marital        married\n",
      "education    secondary\n",
      "default             no\n",
      "balance           1631\n",
      "housing            yes\n",
      "loan                no\n",
      "contact       cellular\n",
      "Name: 26151, dtype: object\n"
     ]
    }
   ],
   "source": [
    "data_err = data[data[\"job\"] == 'Їа®бвЁвҐ ¬Ґ\\xadп']\n",
    "print(data_err)\n",
    "data_err.iloc[0, 1] = 'unknown'\n",
    "data[data[\"job\"] == 'Їа®бвЁвҐ ¬Ґ\\xadп'] = data_err\n",
    "print(data[data[\"job\"] == 'unknown'].loc[26151])"
   ]
  },
  {
   "cell_type": "code",
   "execution_count": 219,
   "id": "cd468f69",
   "metadata": {},
   "outputs": [
    {
     "name": "stdout",
     "output_type": "stream",
     "text": [
      "      age           job  marital education default balance housing loan  \\\n",
      "23983  47  sef-employed  married   primary      no    1056      no   no   \n",
      "\n",
      "         contact  \n",
      "23983  telephone  \n",
      "age                     47\n",
      "job          self-employed\n",
      "marital            married\n",
      "education          primary\n",
      "default                 no\n",
      "balance               1056\n",
      "housing                 no\n",
      "loan                    no\n",
      "contact          telephone\n",
      "Name: 23983, dtype: object\n"
     ]
    }
   ],
   "source": [
    "data_err = data[data[\"job\"] == 'sef-employed']\n",
    "print(data_err)\n",
    "data_err.iloc[0, 1] = 'self-employed'\n",
    "data[data[\"job\"] == 'sef-employed'] = data_err\n",
    "print(data[data[\"job\"] == 'self-employed'].loc[23983])"
   ]
  },
  {
   "cell_type": "code",
   "execution_count": 220,
   "id": "607eed30",
   "metadata": {},
   "outputs": [
    {
     "data": {
      "text/html": [
       "<div>\n",
       "<style scoped>\n",
       "    .dataframe tbody tr th:only-of-type {\n",
       "        vertical-align: middle;\n",
       "    }\n",
       "\n",
       "    .dataframe tbody tr th {\n",
       "        vertical-align: top;\n",
       "    }\n",
       "\n",
       "    .dataframe thead th {\n",
       "        text-align: right;\n",
       "    }\n",
       "</style>\n",
       "<table border=\"1\" class=\"dataframe\">\n",
       "  <thead>\n",
       "    <tr style=\"text-align: right;\">\n",
       "      <th></th>\n",
       "      <th>age</th>\n",
       "      <th>job</th>\n",
       "      <th>marital</th>\n",
       "      <th>education</th>\n",
       "      <th>default</th>\n",
       "      <th>balance</th>\n",
       "      <th>housing</th>\n",
       "      <th>loan</th>\n",
       "      <th>contact</th>\n",
       "    </tr>\n",
       "  </thead>\n",
       "  <tbody>\n",
       "    <tr>\n",
       "      <th>10</th>\n",
       "      <td>41</td>\n",
       "      <td>admin.</td>\n",
       "      <td>divorced</td>\n",
       "      <td>secondary</td>\n",
       "      <td>no</td>\n",
       "      <td>270</td>\n",
       "      <td>yes</td>\n",
       "      <td>no</td>\n",
       "      <td>unknown</td>\n",
       "    </tr>\n",
       "    <tr>\n",
       "      <th>11</th>\n",
       "      <td>29</td>\n",
       "      <td>admin.</td>\n",
       "      <td>single</td>\n",
       "      <td>secondary</td>\n",
       "      <td>no</td>\n",
       "      <td>390</td>\n",
       "      <td>yes</td>\n",
       "      <td>no</td>\n",
       "      <td>unknown</td>\n",
       "    </tr>\n",
       "    <tr>\n",
       "      <th>16</th>\n",
       "      <td>45</td>\n",
       "      <td>admin.</td>\n",
       "      <td>single</td>\n",
       "      <td>unknown</td>\n",
       "      <td>no</td>\n",
       "      <td>13</td>\n",
       "      <td>yes</td>\n",
       "      <td>no</td>\n",
       "      <td>unknown</td>\n",
       "    </tr>\n",
       "    <tr>\n",
       "      <th>25</th>\n",
       "      <td>44</td>\n",
       "      <td>admin.</td>\n",
       "      <td>married</td>\n",
       "      <td>secondary</td>\n",
       "      <td>no</td>\n",
       "      <td>-372</td>\n",
       "      <td>yes</td>\n",
       "      <td>no</td>\n",
       "      <td>unknown</td>\n",
       "    </tr>\n",
       "    <tr>\n",
       "      <th>32</th>\n",
       "      <td>60</td>\n",
       "      <td>admin.</td>\n",
       "      <td>married</td>\n",
       "      <td>secondary</td>\n",
       "      <td>no</td>\n",
       "      <td>39</td>\n",
       "      <td>yes</td>\n",
       "      <td>yes</td>\n",
       "      <td>unknown</td>\n",
       "    </tr>\n",
       "    <tr>\n",
       "      <th>...</th>\n",
       "      <td>...</td>\n",
       "      <td>...</td>\n",
       "      <td>...</td>\n",
       "      <td>...</td>\n",
       "      <td>...</td>\n",
       "      <td>...</td>\n",
       "      <td>...</td>\n",
       "      <td>...</td>\n",
       "      <td>...</td>\n",
       "    </tr>\n",
       "    <tr>\n",
       "      <th>45171</th>\n",
       "      <td>33</td>\n",
       "      <td>admin.</td>\n",
       "      <td>single</td>\n",
       "      <td>secondary</td>\n",
       "      <td>no</td>\n",
       "      <td>690</td>\n",
       "      <td>no</td>\n",
       "      <td>no</td>\n",
       "      <td>cellular</td>\n",
       "    </tr>\n",
       "    <tr>\n",
       "      <th>45173</th>\n",
       "      <td>36</td>\n",
       "      <td>admin.</td>\n",
       "      <td>single</td>\n",
       "      <td>tertiary</td>\n",
       "      <td>no</td>\n",
       "      <td>980</td>\n",
       "      <td>no</td>\n",
       "      <td>no</td>\n",
       "      <td>cellular</td>\n",
       "    </tr>\n",
       "    <tr>\n",
       "      <th>45176</th>\n",
       "      <td>54</td>\n",
       "      <td>admin.</td>\n",
       "      <td>married</td>\n",
       "      <td>secondary</td>\n",
       "      <td>no</td>\n",
       "      <td>66</td>\n",
       "      <td>yes</td>\n",
       "      <td>no</td>\n",
       "      <td>cellular</td>\n",
       "    </tr>\n",
       "    <tr>\n",
       "      <th>45177</th>\n",
       "      <td>36</td>\n",
       "      <td>admin.</td>\n",
       "      <td>divorced</td>\n",
       "      <td>secondary</td>\n",
       "      <td>no</td>\n",
       "      <td>1224</td>\n",
       "      <td>yes</td>\n",
       "      <td>no</td>\n",
       "      <td>cellular</td>\n",
       "    </tr>\n",
       "    <tr>\n",
       "      <th>45202</th>\n",
       "      <td>34</td>\n",
       "      <td>admin.</td>\n",
       "      <td>single</td>\n",
       "      <td>secondary</td>\n",
       "      <td>no</td>\n",
       "      <td>557</td>\n",
       "      <td>no</td>\n",
       "      <td>no</td>\n",
       "      <td>cellular</td>\n",
       "    </tr>\n",
       "  </tbody>\n",
       "</table>\n",
       "<p>5171 rows × 9 columns</p>\n",
       "</div>"
      ],
      "text/plain": [
       "      age     job   marital  education default balance housing loan   contact\n",
       "10     41  admin.  divorced  secondary      no     270     yes   no   unknown\n",
       "11     29  admin.    single  secondary      no     390     yes   no   unknown\n",
       "16     45  admin.    single    unknown      no      13     yes   no   unknown\n",
       "25     44  admin.   married  secondary      no    -372     yes   no   unknown\n",
       "32     60  admin.   married  secondary      no      39     yes  yes   unknown\n",
       "...    ..     ...       ...        ...     ...     ...     ...  ...       ...\n",
       "45171  33  admin.    single  secondary      no     690      no   no  cellular\n",
       "45173  36  admin.    single   tertiary      no     980      no   no  cellular\n",
       "45176  54  admin.   married  secondary      no      66     yes   no  cellular\n",
       "45177  36  admin.  divorced  secondary      no    1224     yes   no  cellular\n",
       "45202  34  admin.    single  secondary      no     557      no   no  cellular\n",
       "\n",
       "[5171 rows x 9 columns]"
      ]
     },
     "execution_count": 220,
     "metadata": {},
     "output_type": "execute_result"
    }
   ],
   "source": [
    "data[data[\"job\"] == 'admin.']"
   ]
  },
  {
   "cell_type": "code",
   "execution_count": 221,
   "id": "aa157a87",
   "metadata": {},
   "outputs": [],
   "source": [
    "data_err = data[data[\"job\"] == 'admin.']\n",
    "for ind in range(data_err.shape[0]):\n",
    "    curr_row = data_err.iloc[ind][0]\n",
    "    data_err.job.iloc[ind] = 'administrator'\n",
    "data[data[\"job\"] == 'admin.'] = data_err"
   ]
  },
  {
   "cell_type": "code",
   "execution_count": 222,
   "id": "0ac5ef53",
   "metadata": {},
   "outputs": [
    {
     "data": {
      "text/html": [
       "<div>\n",
       "<style scoped>\n",
       "    .dataframe tbody tr th:only-of-type {\n",
       "        vertical-align: middle;\n",
       "    }\n",
       "\n",
       "    .dataframe tbody tr th {\n",
       "        vertical-align: top;\n",
       "    }\n",
       "\n",
       "    .dataframe thead th {\n",
       "        text-align: right;\n",
       "    }\n",
       "</style>\n",
       "<table border=\"1\" class=\"dataframe\">\n",
       "  <thead>\n",
       "    <tr style=\"text-align: right;\">\n",
       "      <th></th>\n",
       "      <th>age</th>\n",
       "      <th>job</th>\n",
       "      <th>marital</th>\n",
       "      <th>education</th>\n",
       "      <th>default</th>\n",
       "      <th>balance</th>\n",
       "      <th>housing</th>\n",
       "      <th>loan</th>\n",
       "      <th>contact</th>\n",
       "    </tr>\n",
       "  </thead>\n",
       "  <tbody>\n",
       "  </tbody>\n",
       "</table>\n",
       "</div>"
      ],
      "text/plain": [
       "Empty DataFrame\n",
       "Columns: [age, job, marital, education, default, balance, housing, loan, contact]\n",
       "Index: []"
      ]
     },
     "execution_count": 222,
     "metadata": {},
     "output_type": "execute_result"
    }
   ],
   "source": [
    "data[data[\"job\"] == 'admin.']"
   ]
  },
  {
   "cell_type": "code",
   "execution_count": 223,
   "id": "b8439780",
   "metadata": {},
   "outputs": [
    {
     "data": {
      "text/html": [
       "<div>\n",
       "<style scoped>\n",
       "    .dataframe tbody tr th:only-of-type {\n",
       "        vertical-align: middle;\n",
       "    }\n",
       "\n",
       "    .dataframe tbody tr th {\n",
       "        vertical-align: top;\n",
       "    }\n",
       "\n",
       "    .dataframe thead th {\n",
       "        text-align: right;\n",
       "    }\n",
       "</style>\n",
       "<table border=\"1\" class=\"dataframe\">\n",
       "  <thead>\n",
       "    <tr style=\"text-align: right;\">\n",
       "      <th></th>\n",
       "      <th>age</th>\n",
       "      <th>job</th>\n",
       "      <th>marital</th>\n",
       "      <th>education</th>\n",
       "      <th>default</th>\n",
       "      <th>balance</th>\n",
       "      <th>housing</th>\n",
       "      <th>loan</th>\n",
       "      <th>contact</th>\n",
       "    </tr>\n",
       "  </thead>\n",
       "  <tbody>\n",
       "    <tr>\n",
       "      <th>10</th>\n",
       "      <td>41</td>\n",
       "      <td>administrator</td>\n",
       "      <td>divorced</td>\n",
       "      <td>secondary</td>\n",
       "      <td>no</td>\n",
       "      <td>270</td>\n",
       "      <td>yes</td>\n",
       "      <td>no</td>\n",
       "      <td>unknown</td>\n",
       "    </tr>\n",
       "    <tr>\n",
       "      <th>11</th>\n",
       "      <td>29</td>\n",
       "      <td>administrator</td>\n",
       "      <td>single</td>\n",
       "      <td>secondary</td>\n",
       "      <td>no</td>\n",
       "      <td>390</td>\n",
       "      <td>yes</td>\n",
       "      <td>no</td>\n",
       "      <td>unknown</td>\n",
       "    </tr>\n",
       "    <tr>\n",
       "      <th>16</th>\n",
       "      <td>45</td>\n",
       "      <td>administrator</td>\n",
       "      <td>single</td>\n",
       "      <td>unknown</td>\n",
       "      <td>no</td>\n",
       "      <td>13</td>\n",
       "      <td>yes</td>\n",
       "      <td>no</td>\n",
       "      <td>unknown</td>\n",
       "    </tr>\n",
       "    <tr>\n",
       "      <th>25</th>\n",
       "      <td>44</td>\n",
       "      <td>administrator</td>\n",
       "      <td>married</td>\n",
       "      <td>secondary</td>\n",
       "      <td>no</td>\n",
       "      <td>-372</td>\n",
       "      <td>yes</td>\n",
       "      <td>no</td>\n",
       "      <td>unknown</td>\n",
       "    </tr>\n",
       "    <tr>\n",
       "      <th>32</th>\n",
       "      <td>60</td>\n",
       "      <td>administrator</td>\n",
       "      <td>married</td>\n",
       "      <td>secondary</td>\n",
       "      <td>no</td>\n",
       "      <td>39</td>\n",
       "      <td>yes</td>\n",
       "      <td>yes</td>\n",
       "      <td>unknown</td>\n",
       "    </tr>\n",
       "    <tr>\n",
       "      <th>...</th>\n",
       "      <td>...</td>\n",
       "      <td>...</td>\n",
       "      <td>...</td>\n",
       "      <td>...</td>\n",
       "      <td>...</td>\n",
       "      <td>...</td>\n",
       "      <td>...</td>\n",
       "      <td>...</td>\n",
       "      <td>...</td>\n",
       "    </tr>\n",
       "    <tr>\n",
       "      <th>45171</th>\n",
       "      <td>33</td>\n",
       "      <td>administrator</td>\n",
       "      <td>single</td>\n",
       "      <td>secondary</td>\n",
       "      <td>no</td>\n",
       "      <td>690</td>\n",
       "      <td>no</td>\n",
       "      <td>no</td>\n",
       "      <td>cellular</td>\n",
       "    </tr>\n",
       "    <tr>\n",
       "      <th>45173</th>\n",
       "      <td>36</td>\n",
       "      <td>administrator</td>\n",
       "      <td>single</td>\n",
       "      <td>tertiary</td>\n",
       "      <td>no</td>\n",
       "      <td>980</td>\n",
       "      <td>no</td>\n",
       "      <td>no</td>\n",
       "      <td>cellular</td>\n",
       "    </tr>\n",
       "    <tr>\n",
       "      <th>45176</th>\n",
       "      <td>54</td>\n",
       "      <td>administrator</td>\n",
       "      <td>married</td>\n",
       "      <td>secondary</td>\n",
       "      <td>no</td>\n",
       "      <td>66</td>\n",
       "      <td>yes</td>\n",
       "      <td>no</td>\n",
       "      <td>cellular</td>\n",
       "    </tr>\n",
       "    <tr>\n",
       "      <th>45177</th>\n",
       "      <td>36</td>\n",
       "      <td>administrator</td>\n",
       "      <td>divorced</td>\n",
       "      <td>secondary</td>\n",
       "      <td>no</td>\n",
       "      <td>1224</td>\n",
       "      <td>yes</td>\n",
       "      <td>no</td>\n",
       "      <td>cellular</td>\n",
       "    </tr>\n",
       "    <tr>\n",
       "      <th>45202</th>\n",
       "      <td>34</td>\n",
       "      <td>administrator</td>\n",
       "      <td>single</td>\n",
       "      <td>secondary</td>\n",
       "      <td>no</td>\n",
       "      <td>557</td>\n",
       "      <td>no</td>\n",
       "      <td>no</td>\n",
       "      <td>cellular</td>\n",
       "    </tr>\n",
       "  </tbody>\n",
       "</table>\n",
       "<p>5171 rows × 9 columns</p>\n",
       "</div>"
      ],
      "text/plain": [
       "      age            job   marital  education default balance housing loan  \\\n",
       "10     41  administrator  divorced  secondary      no     270     yes   no   \n",
       "11     29  administrator    single  secondary      no     390     yes   no   \n",
       "16     45  administrator    single    unknown      no      13     yes   no   \n",
       "25     44  administrator   married  secondary      no    -372     yes   no   \n",
       "32     60  administrator   married  secondary      no      39     yes  yes   \n",
       "...    ..            ...       ...        ...     ...     ...     ...  ...   \n",
       "45171  33  administrator    single  secondary      no     690      no   no   \n",
       "45173  36  administrator    single   tertiary      no     980      no   no   \n",
       "45176  54  administrator   married  secondary      no      66     yes   no   \n",
       "45177  36  administrator  divorced  secondary      no    1224     yes   no   \n",
       "45202  34  administrator    single  secondary      no     557      no   no   \n",
       "\n",
       "        contact  \n",
       "10      unknown  \n",
       "11      unknown  \n",
       "16      unknown  \n",
       "25      unknown  \n",
       "32      unknown  \n",
       "...         ...  \n",
       "45171  cellular  \n",
       "45173  cellular  \n",
       "45176  cellular  \n",
       "45177  cellular  \n",
       "45202  cellular  \n",
       "\n",
       "[5171 rows x 9 columns]"
      ]
     },
     "execution_count": 223,
     "metadata": {},
     "output_type": "execute_result"
    }
   ],
   "source": [
    "data[data[\"job\"] == 'administrator']"
   ]
  },
  {
   "cell_type": "markdown",
   "id": "03f4ebd7",
   "metadata": {},
   "source": [
    "## Приведем данные в столбцах к подходящему для каждого типу"
   ]
  },
  {
   "cell_type": "code",
   "execution_count": 224,
   "id": "67e31007",
   "metadata": {},
   "outputs": [
    {
     "name": "stdout",
     "output_type": "stream",
     "text": [
      "      age      job  marital  education default balance housing loan   contact\n",
      "36510  58  retired  married  secondary      no     5O2     yes   no  cellular\n",
      "age                 58\n",
      "job            retired\n",
      "marital        married\n",
      "education    secondary\n",
      "default             no\n",
      "balance            502\n",
      "housing            yes\n",
      "loan                no\n",
      "contact       cellular\n",
      "Name: 36510, dtype: object\n"
     ]
    }
   ],
   "source": [
    "data_err = data[data['balance'] == '5O2']\n",
    "print(data_err)\n",
    "data_err.iloc[0, 5] = '502'\n",
    "data[data['balance'] == '5O2'] = data_err\n",
    "print(data[data['balance'] == '502'].loc[36510])"
   ]
  },
  {
   "cell_type": "code",
   "execution_count": 225,
   "id": "d7feda07",
   "metadata": {},
   "outputs": [],
   "source": [
    "data.age = data.age.astype(np.int32)\n",
    "data.job = data.job.astype(str)\n",
    "data.marital = data.marital.astype(str)\n",
    "data.education = data.education.astype(str)\n",
    "data.default = data.default.astype(str)\n",
    "data.balance = data.balance.astype(np.float32)\n",
    "data.housing = data.housing.astype(str)\n",
    "data.loan = data.loan.astype(str)\n",
    "data.contact = data.contact.astype(str)"
   ]
  },
  {
   "cell_type": "markdown",
   "id": "24dfa19b",
   "metadata": {},
   "source": [
    "## Ещё раз проверим наборы уникальных значений в столбцах"
   ]
  },
  {
   "cell_type": "code",
   "execution_count": 226,
   "id": "f230fcce",
   "metadata": {},
   "outputs": [
    {
     "name": "stdout",
     "output_type": "stream",
     "text": [
      "-------------------------\n",
      "Col:  age ; uniq:  [58 44 33 47 35 28 42 43 41 29 53 57 51 45 60 56 32 25 40 39 52 46 36 49\n",
      " 59 37 50 54 55 48 24 38 31 30 27 34 23 26 61 22 21 20 66 62 83 75 67 70\n",
      " 65 68 64 69 72 71 19 76 85 63 90 82 73 74 78 80 94 79 77 86 95 81 18 89\n",
      " 84 87 92 93 88]\n",
      "-------------------------\n",
      "Col:  job ; uniq:  ['management' 'technician' 'entrepreneur' 'blue-collar' 'unknown'\n",
      " 'retired' 'administrator' 'services' 'self-employed' 'unemployed'\n",
      " 'housemaid' 'student']\n",
      "-------------------------\n",
      "Col:  marital ; uniq:  ['married' 'single' 'divorced']\n",
      "-------------------------\n",
      "Col:  education ; uniq:  ['tertiary' 'secondary' 'unknown' 'primary']\n",
      "-------------------------\n",
      "Col:  default ; uniq:  ['no' 'yes']\n",
      "-------------------------\n",
      "Col:  balance ; uniq:  [2.1430e+03 2.9000e+01 2.0000e+00 ... 8.2050e+03 1.4204e+04 1.6353e+04]\n",
      "-------------------------\n",
      "Col:  housing ; uniq:  ['yes' 'no']\n",
      "-------------------------\n",
      "Col:  loan ; uniq:  ['no' 'yes']\n",
      "-------------------------\n",
      "Col:  contact ; uniq:  ['unknown' 'cellular' 'telephone']\n"
     ]
    }
   ],
   "source": [
    "for column in data.columns:\n",
    "    print(\"-------------------------\")\n",
    "    print(\"Col: \", column, \"; uniq: \", data[column].unique())\n",
    "    #print(data[data[column].isna()])"
   ]
  },
  {
   "cell_type": "markdown",
   "id": "c4c2699a",
   "metadata": {},
   "source": [
    "## Теперь датасет очищен от ошибок и готов к дальнейшему анализу"
   ]
  },
  {
   "cell_type": "markdown",
   "id": "2c823bf5",
   "metadata": {},
   "source": [
    "# Часть Б"
   ]
  },
  {
   "cell_type": "code",
   "execution_count": 227,
   "id": "ff54f083",
   "metadata": {},
   "outputs": [
    {
     "data": {
      "text/html": [
       "<div>\n",
       "<style scoped>\n",
       "    .dataframe tbody tr th:only-of-type {\n",
       "        vertical-align: middle;\n",
       "    }\n",
       "\n",
       "    .dataframe tbody tr th {\n",
       "        vertical-align: top;\n",
       "    }\n",
       "\n",
       "    .dataframe thead th {\n",
       "        text-align: right;\n",
       "    }\n",
       "</style>\n",
       "<table border=\"1\" class=\"dataframe\">\n",
       "  <thead>\n",
       "    <tr style=\"text-align: right;\">\n",
       "      <th></th>\n",
       "      <th>age</th>\n",
       "      <th>job</th>\n",
       "      <th>marital</th>\n",
       "      <th>education</th>\n",
       "      <th>default</th>\n",
       "      <th>balance</th>\n",
       "      <th>housing</th>\n",
       "      <th>loan</th>\n",
       "      <th>contact</th>\n",
       "    </tr>\n",
       "  </thead>\n",
       "  <tbody>\n",
       "    <tr>\n",
       "      <th>0</th>\n",
       "      <td>58</td>\n",
       "      <td>management</td>\n",
       "      <td>married</td>\n",
       "      <td>tertiary</td>\n",
       "      <td>no</td>\n",
       "      <td>2143.0</td>\n",
       "      <td>yes</td>\n",
       "      <td>no</td>\n",
       "      <td>unknown</td>\n",
       "    </tr>\n",
       "    <tr>\n",
       "      <th>1</th>\n",
       "      <td>44</td>\n",
       "      <td>technician</td>\n",
       "      <td>single</td>\n",
       "      <td>secondary</td>\n",
       "      <td>no</td>\n",
       "      <td>29.0</td>\n",
       "      <td>yes</td>\n",
       "      <td>no</td>\n",
       "      <td>unknown</td>\n",
       "    </tr>\n",
       "    <tr>\n",
       "      <th>2</th>\n",
       "      <td>33</td>\n",
       "      <td>entrepreneur</td>\n",
       "      <td>married</td>\n",
       "      <td>secondary</td>\n",
       "      <td>no</td>\n",
       "      <td>2.0</td>\n",
       "      <td>yes</td>\n",
       "      <td>yes</td>\n",
       "      <td>unknown</td>\n",
       "    </tr>\n",
       "    <tr>\n",
       "      <th>3</th>\n",
       "      <td>47</td>\n",
       "      <td>blue-collar</td>\n",
       "      <td>married</td>\n",
       "      <td>unknown</td>\n",
       "      <td>no</td>\n",
       "      <td>1506.0</td>\n",
       "      <td>yes</td>\n",
       "      <td>no</td>\n",
       "      <td>unknown</td>\n",
       "    </tr>\n",
       "    <tr>\n",
       "      <th>4</th>\n",
       "      <td>33</td>\n",
       "      <td>unknown</td>\n",
       "      <td>single</td>\n",
       "      <td>unknown</td>\n",
       "      <td>no</td>\n",
       "      <td>1.0</td>\n",
       "      <td>no</td>\n",
       "      <td>no</td>\n",
       "      <td>unknown</td>\n",
       "    </tr>\n",
       "  </tbody>\n",
       "</table>\n",
       "</div>"
      ],
      "text/plain": [
       "   age           job  marital  education default  balance housing loan  \\\n",
       "0   58    management  married   tertiary      no   2143.0     yes   no   \n",
       "1   44    technician   single  secondary      no     29.0     yes   no   \n",
       "2   33  entrepreneur  married  secondary      no      2.0     yes  yes   \n",
       "3   47   blue-collar  married    unknown      no   1506.0     yes   no   \n",
       "4   33       unknown   single    unknown      no      1.0      no   no   \n",
       "\n",
       "   contact  \n",
       "0  unknown  \n",
       "1  unknown  \n",
       "2  unknown  \n",
       "3  unknown  \n",
       "4  unknown  "
      ]
     },
     "execution_count": 227,
     "metadata": {},
     "output_type": "execute_result"
    }
   ],
   "source": [
    "data.head()"
   ]
  },
  {
   "cell_type": "code",
   "execution_count": 228,
   "id": "75fc84c1",
   "metadata": {},
   "outputs": [],
   "source": [
    "# hist_data = data.copy(deep=False)\n",
    "# labels = np.zeros(len(data.columns), dtype = object)\n",
    "# for cnt_1, column in enumerate(data.columns):\n",
    "#     labels[cnt_1] = []\n",
    "#     temp_data = data[column]\n",
    "#     temp_labels = temp_data.unique()\n",
    "#     for cnt, label in enumerate(temp_labels):\n",
    "#         temp_data[temp_data == label] = cnt\n",
    "#         labels[cnt_1].append(str(cnt) + \" = \" + str(temp_labels[cnt]))\n",
    "#     hist_data[column] = temp_data"
   ]
  },
  {
   "cell_type": "code",
   "execution_count": 229,
   "id": "9426a023",
   "metadata": {},
   "outputs": [],
   "source": [
    "# hist_data.head()"
   ]
  },
  {
   "cell_type": "code",
   "execution_count": 230,
   "id": "b7c8ddb7",
   "metadata": {},
   "outputs": [],
   "source": [
    "#labels[-1]"
   ]
  },
  {
   "cell_type": "code",
   "execution_count": 231,
   "id": "36f61ba5",
   "metadata": {
    "scrolled": false
   },
   "outputs": [],
   "source": [
    "# fig, axes = plt.subplots(figsize = (22, 10), nrows=2, ncols=5)\n",
    "\n",
    "# counter_1 = 0\n",
    "# counter_2 = 0\n",
    "# for cnt, column in enumerate(data.columns):\n",
    "#     #print(counter_2, counter_1)\n",
    "#     hist_data[column].plot.hist(ax = axes[counter_2][counter_1], edgecolor='black', label = labels[cnt])\n",
    "#     counter_1 += 1\n",
    "#     counter_1 = counter_1 % 5\n",
    "#     counter_2 += int(counter_1 % 5 == 0)\n",
    "# plt.show()"
   ]
  },
  {
   "cell_type": "markdown",
   "id": "f027df29",
   "metadata": {},
   "source": [
    "## Проведем анализ возраста и семейного положения"
   ]
  },
  {
   "cell_type": "code",
   "execution_count": 260,
   "id": "2a33f50d",
   "metadata": {},
   "outputs": [
    {
     "data": {
      "text/plain": [
       "Text(0.04, 0.5, 'Частота')"
      ]
     },
     "execution_count": 260,
     "metadata": {},
     "output_type": "execute_result"
    },
    {
     "data": {
      "image/png": "[encoded data removed]",
      "text/plain": [
       "<Figure size 1080x720 with 3 Axes>"
      ]
     },
     "metadata": {
      "needs_background": "light"
     },
     "output_type": "display_data"
    }
   ],
   "source": [
    "fig, axes = plt.subplots(figsize = (15, 10), nrows=1, ncols=3)\n",
    "\n",
    "data.hist(column = 'age', by='marital', ax = axes, edgecolor='black', bins = np.linspace(18, 95, 16))\n",
    "\n",
    "plt.suptitle('Распределение по возрасту, для каждого вида семейного положения', x=0.5, y=1.05, ha='center', fontsize='xx-large')\n",
    "fig.text(0.5, 0.04, 'Возраст', ha='center')\n",
    "fig.text(0.04, 0.5, 'Частота', va='center', rotation='vertical')\n",
    "\n",
    "# all_marit = len(data['marital'])\n",
    "\n",
    "# for i in data['marital'].unique():\n",
    "#     print(\"Доля \" + i + \" = \", data[data['marital'] == i]['marital'].value_counts() / all_marit)"
   ]
  },
  {
   "cell_type": "markdown",
   "id": "3285bf16",
   "metadata": {},
   "source": [
    "## Гистограммы выше показывают, что:\n",
    "## Доля количество разведенных после 64 лет резко снижается. Пики количества разведенных людей приходятся на 38-48 лет и 54-59 лет - возможно, это связано с возрастными кризисами, которые могут происходить в эти возрастные периоды.\n",
    "## Количество женатых пар достигает максимума около 33-38 лет\n",
    "## Количество одиноких людей достигает максимума около 28-33 лет"
   ]
  },
  {
   "cell_type": "markdown",
   "id": "2db6f2d6",
   "metadata": {},
   "source": [
    "## Возраст клиентов"
   ]
  },
  {
   "cell_type": "code",
   "execution_count": 253,
   "id": "9c3c65da",
   "metadata": {},
   "outputs": [
    {
     "data": {
      "image/png": "[encoded data removed]",
      "text/plain": [
       "<Figure size 1080x720 with 1 Axes>"
      ]
     },
     "metadata": {
      "needs_background": "light"
     },
     "output_type": "display_data"
    }
   ],
   "source": [
    "plt.figure(figsize = (15, 10))\n",
    "data['age'].hist()\n",
    "plt.show()"
   ]
  },
  {
   "cell_type": "code",
   "execution_count": 256,
   "id": "7a6e5fac",
   "metadata": {},
   "outputs": [
    {
     "data": {
      "text/plain": [
       "32    2085\n",
       "31    1996\n",
       "33    1972\n",
       "34    1930\n",
       "35    1894\n",
       "      ... \n",
       "93       2\n",
       "90       2\n",
       "95       2\n",
       "88       2\n",
       "94       1\n",
       "Name: age, Length: 77, dtype: int64"
      ]
     },
     "execution_count": 256,
     "metadata": {},
     "output_type": "execute_result"
    }
   ],
   "source": [
    "data['age'].value_counts()"
   ]
  },
  {
   "cell_type": "markdown",
   "id": "e72b7ecc",
   "metadata": {},
   "source": [
    "## Чаще всего клиенту 32 года "
   ]
  },
  {
   "cell_type": "markdown",
   "id": "8eb9e764",
   "metadata": {},
   "source": [
    "## Семейное положение клиентов"
   ]
  },
  {
   "cell_type": "code",
   "execution_count": 258,
   "id": "1b0a459d",
   "metadata": {},
   "outputs": [
    {
     "data": {
      "image/png": "[encoded data removed]",
      "text/plain": [
       "<Figure size 1080x720 with 1 Axes>"
      ]
     },
     "metadata": {
      "needs_background": "light"
     },
     "output_type": "display_data"
    }
   ],
   "source": [
    "plt.figure(figsize = (15, 10))\n",
    "data['marital'].hist()\n",
    "plt.show()"
   ]
  },
  {
   "cell_type": "code",
   "execution_count": 259,
   "id": "8c5919b0",
   "metadata": {},
   "outputs": [
    {
     "data": {
      "text/plain": [
       "married     0.601933\n",
       "single      0.282896\n",
       "divorced    0.115171\n",
       "Name: marital, dtype: float64"
      ]
     },
     "execution_count": 259,
     "metadata": {},
     "output_type": "execute_result"
    }
   ],
   "source": [
    "data['marital'].value_counts() / len(data['marital'])"
   ]
  },
  {
   "cell_type": "markdown",
   "id": "bd52423e",
   "metadata": {},
   "source": [
    "## Примерно 60% клиентов женаты, 28% одиноки, 12% разведены"
   ]
  },
  {
   "cell_type": "markdown",
   "id": "31bdccfe",
   "metadata": {},
   "source": [
    "## Образование клиентов"
   ]
  },
  {
   "cell_type": "code",
   "execution_count": 252,
   "id": "ebe10bae",
   "metadata": {},
   "outputs": [
    {
     "data": {
      "image/png": "[encoded data removed]",
      "text/plain": [
       "<Figure size 1080x720 with 1 Axes>"
      ]
     },
     "metadata": {
      "needs_background": "light"
     },
     "output_type": "display_data"
    }
   ],
   "source": [
    "plt.figure(figsize = (15, 10))\n",
    "data['education'].hist()\n",
    "plt.show()"
   ]
  },
  {
   "cell_type": "code",
   "execution_count": 249,
   "id": "9d2a2da9",
   "metadata": {},
   "outputs": [
    {
     "data": {
      "text/plain": [
       "secondary    0.513194\n",
       "tertiary     0.294198\n",
       "primary      0.151534\n",
       "unknown      0.041074\n",
       "Name: education, dtype: float64"
      ]
     },
     "execution_count": 249,
     "metadata": {},
     "output_type": "execute_result"
    }
   ],
   "source": [
    "data['education'].value_counts() / len(data['education'])"
   ]
  },
  {
   "cell_type": "markdown",
   "id": "15d39095",
   "metadata": {},
   "source": [
    "## 51% клиентов имеет среднее образование, 29% имеет высшее образование, 15% - начальное образование, об остальных сведений нет"
   ]
  },
  {
   "cell_type": "markdown",
   "id": "93c89850",
   "metadata": {},
   "source": [
    "## Дефолтность"
   ]
  },
  {
   "cell_type": "code",
   "execution_count": 266,
   "id": "1543dee2",
   "metadata": {},
   "outputs": [
    {
     "data": {
      "image/png": "[encoded data removed]",
      "text/plain": [
       "<Figure size 1080x720 with 1 Axes>"
      ]
     },
     "metadata": {
      "needs_background": "light"
     },
     "output_type": "display_data"
    }
   ],
   "source": [
    "plt.figure(figsize = (15, 10))\n",
    "data['default'].hist()\n",
    "plt.show()"
   ]
  },
  {
   "cell_type": "code",
   "execution_count": 250,
   "id": "06ac6c00",
   "metadata": {},
   "outputs": [
    {
     "data": {
      "text/plain": [
       "no     0.981973\n",
       "yes    0.018027\n",
       "Name: default, dtype: float64"
      ]
     },
     "execution_count": 250,
     "metadata": {},
     "output_type": "execute_result"
    }
   ],
   "source": [
    "data['default'].value_counts() / len(data['default'])"
   ]
  },
  {
   "cell_type": "markdown",
   "id": "ef172e49",
   "metadata": {},
   "source": [
    "## 98.2% клиентов не дефолтны, 1.8% дефолтны"
   ]
  },
  {
   "cell_type": "markdown",
   "id": "facf380e",
   "metadata": {},
   "source": [
    "## Рассмотрим баланс клиентов"
   ]
  },
  {
   "cell_type": "code",
   "execution_count": 269,
   "id": "dbe54d55",
   "metadata": {},
   "outputs": [
    {
     "data": {
      "image/png": "[encoded data removed]",
      "text/plain": [
       "<Figure size 1080x720 with 1 Axes>"
      ]
     },
     "metadata": {
      "needs_background": "light"
     },
     "output_type": "display_data"
    }
   ],
   "source": [
    "plt.figure(figsize = (15, 10))\n",
    "plt.plot(sorted(data['balance'].values), 'go')\n",
    "plt.show()"
   ]
  },
  {
   "cell_type": "code",
   "execution_count": 271,
   "id": "4f262f79",
   "metadata": {},
   "outputs": [
    {
     "data": {
      "text/plain": [
       "1362.28"
      ]
     },
     "execution_count": 271,
     "metadata": {},
     "output_type": "execute_result"
    }
   ],
   "source": [
    "round(data['balance'].mean(), 2)"
   ]
  },
  {
   "cell_type": "markdown",
   "id": "7855aa6b",
   "metadata": {},
   "source": [
    "## Средний баланс клиента: 1362.28"
   ]
  },
  {
   "cell_type": "markdown",
   "id": "b455503f",
   "metadata": {},
   "source": [
    "## Изучим наличие недвижимости у клиента"
   ]
  },
  {
   "cell_type": "code",
   "execution_count": 273,
   "id": "46426d3f",
   "metadata": {},
   "outputs": [
    {
     "data": {
      "image/png": "[encoded data removed]",
      "text/plain": [
       "<Figure size 1080x720 with 1 Axes>"
      ]
     },
     "metadata": {
      "needs_background": "light"
     },
     "output_type": "display_data"
    }
   ],
   "source": [
    "plt.figure(figsize = (15, 10))\n",
    "data['housing'].hist()\n",
    "plt.show()"
   ]
  },
  {
   "cell_type": "code",
   "execution_count": 274,
   "id": "35913a2f",
   "metadata": {},
   "outputs": [
    {
     "data": {
      "text/plain": [
       "yes    0.555838\n",
       "no     0.444162\n",
       "Name: housing, dtype: float64"
      ]
     },
     "execution_count": 274,
     "metadata": {},
     "output_type": "execute_result"
    }
   ],
   "source": [
    "data['housing'].value_counts() / len(data['housing'])"
   ]
  },
  {
   "cell_type": "markdown",
   "id": "dd7ea25e",
   "metadata": {},
   "source": [
    "## Примерно у 56% клиентов есть своя недвижимость, у 44% её нет"
   ]
  },
  {
   "cell_type": "markdown",
   "id": "0c1fe64e",
   "metadata": {},
   "source": [
    "## Проверим наличие займа у клиента, на конец периода"
   ]
  },
  {
   "cell_type": "code",
   "execution_count": 275,
   "id": "a6965c5f",
   "metadata": {},
   "outputs": [
    {
     "data": {
      "image/png": "[encoded data removed]",
      "text/plain": [
       "<Figure size 1080x720 with 1 Axes>"
      ]
     },
     "metadata": {
      "needs_background": "light"
     },
     "output_type": "display_data"
    }
   ],
   "source": [
    "plt.figure(figsize = (15, 10))\n",
    "data['loan'].hist()\n",
    "plt.show()"
   ]
  },
  {
   "cell_type": "code",
   "execution_count": 276,
   "id": "e1199197",
   "metadata": {},
   "outputs": [
    {
     "data": {
      "text/plain": [
       "no     0.839774\n",
       "yes    0.160226\n",
       "Name: loan, dtype: float64"
      ]
     },
     "execution_count": 276,
     "metadata": {},
     "output_type": "execute_result"
    }
   ],
   "source": [
    "data['loan'].value_counts() / len(data['loan'])"
   ]
  },
  {
   "cell_type": "markdown",
   "id": "86205d94",
   "metadata": {},
   "source": [
    "## Примерно у 84% клиентов нет займа, у 16% есть"
   ]
  },
  {
   "cell_type": "markdown",
   "id": "5dcefa57",
   "metadata": {},
   "source": [
    "## Изучим предпочтительный способ связи клиентов"
   ]
  },
  {
   "cell_type": "code",
   "execution_count": 277,
   "id": "1bb0e9d4",
   "metadata": {},
   "outputs": [
    {
     "data": {
      "image/png": "[encoded data removed]",
      "text/plain": [
       "<Figure size 1080x720 with 1 Axes>"
      ]
     },
     "metadata": {
      "needs_background": "light"
     },
     "output_type": "display_data"
    }
   ],
   "source": [
    "plt.figure(figsize = (15, 10))\n",
    "data['contact'].hist()\n",
    "plt.show()"
   ]
  },
  {
   "cell_type": "code",
   "execution_count": 278,
   "id": "0ce78ba2",
   "metadata": {},
   "outputs": [
    {
     "data": {
      "text/plain": [
       "cellular     0.647741\n",
       "unknown      0.287983\n",
       "telephone    0.064276\n",
       "Name: contact, dtype: float64"
      ]
     },
     "execution_count": 278,
     "metadata": {},
     "output_type": "execute_result"
    }
   ],
   "source": [
    "data['contact'].value_counts() / len(data['contact'])"
   ]
  },
  {
   "cell_type": "markdown",
   "id": "2f3a530d",
   "metadata": {},
   "source": [
    "## Примерно 65% клиентов предпочитают сотовый, 6% предпочитают стационарный телефон, об остальных клиентах нет информации"
   ]
  },
  {
   "cell_type": "markdown",
   "id": "503a29dd",
   "metadata": {},
   "source": [
    "# Часть В"
   ]
  },
  {
   "cell_type": "code",
   "execution_count": 53,
   "id": "2aed4433",
   "metadata": {},
   "outputs": [
    {
     "data": {
      "text/html": [
       "<div>\n",
       "<style scoped>\n",
       "    .dataframe tbody tr th:only-of-type {\n",
       "        vertical-align: middle;\n",
       "    }\n",
       "\n",
       "    .dataframe tbody tr th {\n",
       "        vertical-align: top;\n",
       "    }\n",
       "\n",
       "    .dataframe thead th {\n",
       "        text-align: right;\n",
       "    }\n",
       "</style>\n",
       "<table border=\"1\" class=\"dataframe\">\n",
       "  <thead>\n",
       "    <tr style=\"text-align: right;\">\n",
       "      <th></th>\n",
       "      <th>age</th>\n",
       "      <th>contact</th>\n",
       "    </tr>\n",
       "  </thead>\n",
       "  <tbody>\n",
       "    <tr>\n",
       "      <th>12657</th>\n",
       "      <td>27</td>\n",
       "      <td>cellular</td>\n",
       "    </tr>\n",
       "    <tr>\n",
       "      <th>12658</th>\n",
       "      <td>54</td>\n",
       "      <td>cellular</td>\n",
       "    </tr>\n",
       "    <tr>\n",
       "      <th>12659</th>\n",
       "      <td>43</td>\n",
       "      <td>cellular</td>\n",
       "    </tr>\n",
       "    <tr>\n",
       "      <th>12660</th>\n",
       "      <td>31</td>\n",
       "      <td>telephone</td>\n",
       "    </tr>\n",
       "    <tr>\n",
       "      <th>12661</th>\n",
       "      <td>27</td>\n",
       "      <td>cellular</td>\n",
       "    </tr>\n",
       "  </tbody>\n",
       "</table>\n",
       "</div>"
      ],
      "text/plain": [
       "       age    contact\n",
       "12657   27   cellular\n",
       "12658   54   cellular\n",
       "12659   43   cellular\n",
       "12660   31  telephone\n",
       "12661   27   cellular"
      ]
     },
     "execution_count": 53,
     "metadata": {},
     "output_type": "execute_result"
    }
   ],
   "source": [
    "data_to_corr = data.iloc[:, [0, -1]].drop(data[data.iloc[:, -1] == 'unknown'].index, axis = 0)\n",
    "data_to_corr.head()"
   ]
  },
  {
   "cell_type": "code",
   "execution_count": 54,
   "id": "1c785ee5",
   "metadata": {},
   "outputs": [
    {
     "data": {
      "text/html": [
       "<div>\n",
       "<style scoped>\n",
       "    .dataframe tbody tr th:only-of-type {\n",
       "        vertical-align: middle;\n",
       "    }\n",
       "\n",
       "    .dataframe tbody tr th {\n",
       "        vertical-align: top;\n",
       "    }\n",
       "\n",
       "    .dataframe thead th {\n",
       "        text-align: right;\n",
       "    }\n",
       "</style>\n",
       "<table border=\"1\" class=\"dataframe\">\n",
       "  <thead>\n",
       "    <tr style=\"text-align: right;\">\n",
       "      <th></th>\n",
       "      <th>telephone</th>\n",
       "    </tr>\n",
       "  </thead>\n",
       "  <tbody>\n",
       "    <tr>\n",
       "      <th>12657</th>\n",
       "      <td>0</td>\n",
       "    </tr>\n",
       "    <tr>\n",
       "      <th>12658</th>\n",
       "      <td>0</td>\n",
       "    </tr>\n",
       "    <tr>\n",
       "      <th>12659</th>\n",
       "      <td>0</td>\n",
       "    </tr>\n",
       "    <tr>\n",
       "      <th>12660</th>\n",
       "      <td>1</td>\n",
       "    </tr>\n",
       "    <tr>\n",
       "      <th>12661</th>\n",
       "      <td>0</td>\n",
       "    </tr>\n",
       "  </tbody>\n",
       "</table>\n",
       "</div>"
      ],
      "text/plain": [
       "       telephone\n",
       "12657          0\n",
       "12658          0\n",
       "12659          0\n",
       "12660          1\n",
       "12661          0"
      ]
     },
     "execution_count": 54,
     "metadata": {},
     "output_type": "execute_result"
    }
   ],
   "source": [
    "data_temp = pd.DataFrame(pd.get_dummies(data_to_corr.iloc[:, -1], drop_first=True))\n",
    "data_temp.head()"
   ]
  },
  {
   "cell_type": "code",
   "execution_count": 55,
   "id": "9985e557",
   "metadata": {},
   "outputs": [],
   "source": [
    "data_to_corr['contact'] = data_temp"
   ]
  },
  {
   "cell_type": "markdown",
   "id": "376a0424",
   "metadata": {},
   "source": [
    "## 0 - cellular (сотовый), 1 - telephone - если интерпретировать как требует английский, то это любой телефон: как стационарный, так и мобильный, так и любой другой. Однако, вероятно, имеется в виду стационарный, поэтому интерпретация будет дана исходя из этого предположения\n",
    "## Для определения наличия зависимости между возрастом и предпочитаемым типом связи, разделим клиентов на возрастные группы: каждые 5 лет возраста будут определять возрастную группу. Минимальный возраст клиента - 18 лет, максимальный - 95"
   ]
  },
  {
   "cell_type": "code",
   "execution_count": 129,
   "id": "be57811a",
   "metadata": {},
   "outputs": [
    {
     "name": "stderr",
     "output_type": "stream",
     "text": [
      "C:\\Users\\Dany\\AppData\\Local\\Temp\\ipykernel_20792\\1631795541.py:10: UserWarning: Boolean Series key will be reindexed to match DataFrame index.\n",
      "  age_categories.append(data_to_corr[data_to_corr['age'] >= i - 5][data_to_corr['age'] < i]['contact'])\n"
     ]
    },
    {
     "data": {
      "image/png": "[encoded data removed]",
      "text/plain": [
       "<Figure size 1080x720 with 1 Axes>"
      ]
     },
     "metadata": {
      "needs_background": "light"
     },
     "output_type": "display_data"
    }
   ],
   "source": [
    "plt.figure(figsize = (15, 10))\n",
    "bins = np.linspace(0, 1, 3)\n",
    "max_age = max(data_to_corr['age'].values) #95\n",
    "min_age = min(data_to_corr['age'].values) #18\n",
    "step = 5\n",
    "labels = []\n",
    "age_categories = []\n",
    "\n",
    "for i in range(min_age + step, max_age, step):\n",
    "    age_categories.append(data_to_corr[data_to_corr['age'] >= i - 5][data_to_corr['age'] < i]['contact'])\n",
    "    labels.append(\"от (включит.) \" + str(i - 5) + \" до (не включит.) \" + str(i))\n",
    "age_categories.append(data_to_corr[data_to_corr['age'] >= i]['contact'])\n",
    "labels.append(\"от (включит.) \" + str(i) + \" до (включит.) \" + str(max_age))    \n",
    "\n",
    "plt.hist(age_categories, bins, label = labels, density=True, edgecolor='black')\n",
    "plt.legend(bbox_to_anchor = (1,1))\n",
    "plt.show()"
   ]
  },
  {
   "cell_type": "code",
   "execution_count": 128,
   "id": "c592bd57",
   "metadata": {},
   "outputs": [
    {
     "name": "stdout",
     "output_type": "stream",
     "text": [
      "0    201\n",
      "1     36\n",
      "Name: contact, dtype: int64\n",
      "0    1832\n",
      "1     121\n",
      "Name: contact, dtype: int64\n",
      "0    5668\n",
      "1     276\n",
      "Name: contact, dtype: int64\n",
      "0    6409\n",
      "1     327\n",
      "Name: contact, dtype: int64\n",
      "0    4195\n",
      "1     317\n",
      "Name: contact, dtype: int64\n",
      "0    3573\n",
      "1     385\n",
      "Name: contact, dtype: int64\n",
      "0    2935\n",
      "1     379\n",
      "Name: contact, dtype: int64\n",
      "0    2435\n",
      "1     424\n",
      "Name: contact, dtype: int64\n",
      "0    1417\n",
      "1     300\n",
      "Name: contact, dtype: int64\n",
      "0    249\n",
      "1     78\n",
      "Name: contact, dtype: int64\n",
      "0    185\n",
      "1     68\n",
      "Name: contact, dtype: int64\n",
      "0    113\n",
      "1     83\n",
      "Name: contact, dtype: int64\n",
      "1    72\n",
      "0    50\n",
      "Name: contact, dtype: int64\n",
      "1    32\n",
      "0    17\n",
      "Name: contact, dtype: int64\n",
      "1    6\n",
      "0    3\n",
      "Name: contact, dtype: int64\n",
      "0    3\n",
      "1    2\n",
      "Name: contact, dtype: int64\n"
     ]
    }
   ],
   "source": [
    "for cat in age_categories:\n",
    "    print(cat.value_counts())"
   ]
  },
  {
   "cell_type": "markdown",
   "id": "f09160e9",
   "metadata": {},
   "source": [
    "## От 18 лет до 33, доля использующих сотовый телефон возрастает\n",
    "## От 33 до 58, доля использующих сотовый телефон снижается до значений полуинтервала [18, 23)\n",
    "## Последующие возрастные группы все меньше используют сотовый телефон в пользу стационарного\n",
    "## Всплеск в конце гистограммы объясняется малым объемом выборки в возрастной группе от 93 до 95 лет включительно"
   ]
  }
 ],
 "metadata": {
  "kernelspec": {
   "display_name": "Python 3 (ipykernel)",
   "language": "python",
   "name": "python3"
  },
  "language_info": {
   "codemirror_mode": {
    "name": "ipython",
    "version": 3
   },
   "file_extension": ".py",
   "mimetype": "text/x-python",
   "name": "python",
   "nbconvert_exporter": "python",
   "pygments_lexer": "ipython3",
   "version": "3.8.8"
  }
 },
 "nbformat": 4,
 "nbformat_minor": 5
}
